{
 "cells": [
  {
   "cell_type": "code",
   "execution_count": 92,
   "metadata": {},
   "outputs": [],
   "source": [
    "from selenium import webdriver\n",
    "from lxml import html\n",
    "from time import sleep\n",
    "import pandas as pd\n",
    "import csv"
   ]
  },
  {
   "cell_type": "code",
   "execution_count": 93,
   "metadata": {},
   "outputs": [],
   "source": [
    "driver = webdriver.Chrome('C:\\chromedriver.exe')\n",
    "product_list = []\n",
    "for page_nb in range(0,21):\n",
    "    driver.get(\"https://www.amazon.in/s?k=laptop&page={}\".format(page_nb))\n",
    "    sleep(1)\n",
    "    tree = html.fromstring(driver.page_source)\n",
    "\n",
    "    for product_tree in tree.xpath('//div[contains(@data-cel-widget, \"search_result_\")]'):\n",
    "        title = product_tree.xpath('.//span[@class=\"a-size-medium a-color-base a-text-normal\"]/text()')\n",
    "        ratings = product_tree.xpath('.//span[@class=\"a-size-base\"]/text()')\n",
    "        price = product_tree.xpath('.//span[@class=\"a-offscreen\"]/text()')\n",
    "#         print(title,ratings,price, \"\\n\\n\\n\\n\\n\")\n",
    "\n",
    "        amazon_items = {\n",
    "            'title':title,\n",
    "            'ratings':ratings,\n",
    "            'price':price,\n",
    "        }\n",
    "\n",
    "        product_list.append(amazon_items)\n",
    "        df = pd.DataFrame(product_list)\n",
    "        df.to_csv('amazon_products.csv')"
   ]
  },
  {
   "cell_type": "code",
   "execution_count": 94,
   "metadata": {},
   "outputs": [],
   "source": [
    "df = df[(df['title'].str.len() != 0) | (df['ratings'].str.len() != 0)  | (df['price'].str.len() != 0)]"
   ]
  },
  {
   "cell_type": "code",
   "execution_count": 95,
   "metadata": {},
   "outputs": [],
   "source": [
    "df.to_csv('amazon_products.csv')"
   ]
  }
 ],
 "metadata": {
  "kernelspec": {
   "display_name": "Python 3",
   "language": "python",
   "name": "python3"
  },
  "language_info": {
   "codemirror_mode": {
    "name": "ipython",
    "version": 3
   },
   "file_extension": ".py",
   "mimetype": "text/x-python",
   "name": "python",
   "nbconvert_exporter": "python",
   "pygments_lexer": "ipython3",
   "version": "3.8.3"
  }
 },
 "nbformat": 4,
 "nbformat_minor": 4
}
